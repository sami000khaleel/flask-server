{
 "cells": [
  {
   "cell_type": "code",
   "execution_count": 5,
   "metadata": {},
   "outputs": [],
   "source": [
    "import numpy as np\n",
    "import tensorflow as tf\n",
    "from tensorflow.keras.applications import ResNet50\n",
    "from tensorflow.keras.applications.resnet50 import preprocess_input\n",
    "from tensorflow.keras.preprocessing import image\n",
    "from tensorflow.keras.models import Model\n",
    "from tensorflow.keras.layers import GlobalAveragePooling2D\n",
    "from sklearn.metrics.pairwise import cosine_similarity\n",
    "import os\n",
    "import pandas as pd"
   ]
  },
  {
   "cell_type": "code",
   "execution_count": 6,
   "metadata": {},
   "outputs": [],
   "source": [
    "import pickle\n",
    "features_file = 'features.pkl'\n",
    "\n",
    "def save_features(features, filename):\n",
    "    with open(filename, 'wb') as f:\n",
    "        pickle.dump(features, f)\n",
    "\n",
    "def load_features(filename):\n",
    "    with open(filename, 'rb') as f:\n",
    "        features = pickle.load(f)\n",
    "    return features\n"
   ]
  },
  {
   "cell_type": "code",
   "execution_count": null,
   "metadata": {},
   "outputs": [],
   "source": []
  },
  {
   "cell_type": "code",
   "execution_count": 7,
   "metadata": {},
   "outputs": [],
   "source": [
    "base_model = ResNet50(weights='imagenet', include_top=False)\n",
    "model = Model(inputs=base_model.input, outputs=GlobalAveragePooling2D()(base_model.output))\n"
   ]
  },
  {
   "cell_type": "code",
   "execution_count": 8,
   "metadata": {},
   "outputs": [],
   "source": [
    "def preprocess_image(img_path):\n",
    "    img = image.load_img(img_path, target_size=(224, 224))\n",
    "    img_array = image.img_to_array(img)\n",
    "    img_array = np.expand_dims(img_array, axis=0)\n",
    "    img_array = preprocess_input(img_array)\n",
    "    return img_array"
   ]
  },
  {
   "cell_type": "code",
   "execution_count": 9,
   "metadata": {},
   "outputs": [],
   "source": [
    "def extract_features(img_path):\n",
    "    img_array = preprocess_image(img_path)\n",
    "    features = model.predict(img_array)\n",
    "    return features\n"
   ]
  },
  {
   "cell_type": "code",
   "execution_count": 10,
   "metadata": {},
   "outputs": [],
   "source": [
    "def compute_similarity(feature1, feature2):\n",
    "    similarity = cosine_similarity(feature1.reshape(1, -1), feature2.reshape(1, -1))\n",
    "    return similarity[0][0]\n"
   ]
  },
  {
   "cell_type": "code",
   "execution_count": 11,
   "metadata": {},
   "outputs": [],
   "source": [
    "def get_images_features():\n",
    "    if os.path.exists(features_file):\n",
    "        return load_features(features_file)\n",
    "    else:\n",
    "        # Load the CSV file containing image paths\n",
    "        dataset_path = \"./product_paths.csv\"  # Replace with the path to your CSV file\n",
    "        data = pd.read_csv(dataset_path)\n",
    "\n",
    "        image_features = {}\n",
    "        for index, row in data.iterrows():\n",
    "            img_path = row['path']\n",
    "            features = extract_features('../server/'+img_path+'.jpg')  # You need to define extract_features function\n",
    "            image_features[img_path] = features\n",
    "\n",
    "        # Save features to file\n",
    "        save_features(image_features, features_file)\n",
    "\n",
    "        return image_features\n"
   ]
  },
  {
   "cell_type": "code",
   "execution_count": 12,
   "metadata": {},
   "outputs": [],
   "source": [
    "# input_image_path =''\n",
    "\n",
    "# input_image_features = extract_features(input_image_path)"
   ]
  },
  {
   "cell_type": "code",
   "execution_count": 13,
   "metadata": {},
   "outputs": [],
   "source": [
    "\n",
    "def get_similarities(input_image_features):\n",
    "    similarities = {}\n",
    "    for img_name, features in get_images_features().items():\n",
    "        if len(similarities)>=15:\n",
    "            break\n",
    "        similarity = compute_similarity(input_image_features, features)\n",
    "\n",
    "        if(similarity>0.65):\n",
    "           similarities[img_name] = similarity\n",
    "   \n",
    "    sorted_images = sorted(similarities.items(), key=lambda x: x[1], reverse=True)\n",
    "    return sorted_images    "
   ]
  },
  {
   "cell_type": "code",
   "execution_count": 14,
   "metadata": {},
   "outputs": [],
   "source": [
    "def go(image_url):\n",
    "    input_image_features=extract_features(image_url)\n",
    "    res=get_similarities(input_image_features)\n",
    "    similarities=[[img[0],img[1]] for img in res]\n",
    "    print(similarities)\n",
    "    return similarities"
   ]
  }
 ],
 "metadata": {
  "kernelspec": {
   "display_name": "Python 3 (ipykernel)",
   "language": "python",
   "name": "python3"
  },
  "language_info": {
   "codemirror_mode": {
    "name": "ipython",
    "version": 3
   },
   "file_extension": ".py",
   "mimetype": "text/x-python",
   "name": "python",
   "nbconvert_exporter": "python",
   "pygments_lexer": "ipython3",
   "version": "3.11.5"
  }
 },
 "nbformat": 4,
 "nbformat_minor": 2
}
