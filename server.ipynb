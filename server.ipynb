{
 "cells": [
  {
   "cell_type": "code",
   "execution_count": 11,
   "metadata": {},
   "outputs": [
    {
     "name": "stdout",
     "output_type": "stream",
     "text": [
      " * Serving Flask app '__main__'\n",
      " * Debug mode: off\n"
     ]
    },
    {
     "name": "stderr",
     "output_type": "stream",
     "text": [
      "WARNING: This is a development server. Do not use it in a production deployment. Use a production WSGI server instead.\n",
      " * Running on http://127.0.0.1:5000\n",
      "Press CTRL+C to quit\n",
      "127.0.0.1 - - [30/Sep/2024 15:39:08] \"POST /api/models/get-similarities HTTP/1.1\" 422 -\n",
      "127.0.0.1 - - [30/Sep/2024 15:39:09] \"POST /api/models/get-similarities HTTP/1.1\" 422 -\n",
      "127.0.0.1 - - [30/Sep/2024 15:39:30] \"POST /api/models/get-similarities HTTP/1.1\" 422 -\n",
      "127.0.0.1 - - [30/Sep/2024 15:39:33] \"POST /api/models/get-similarities HTTP/1.1\" 422 -\n",
      "127.0.0.1 - - [30/Sep/2024 15:39:36] \"POST /api/models/get-similarities HTTP/1.1\" 422 -\n",
      "127.0.0.1 - - [30/Sep/2024 15:40:06] \"POST /api/models/get-similarities HTTP/1.1\" 422 -\n",
      "127.0.0.1 - - [30/Sep/2024 15:40:32] \"POST /api/models/get-similarities HTTP/1.1\" 422 -\n",
      "127.0.0.1 - - [30/Sep/2024 15:40:34] \"POST /api/models/get-similarities HTTP/1.1\" 422 -\n",
      "127.0.0.1 - - [30/Sep/2024 15:42:09] \"POST /api/models/get-similarities HTTP/1.1\" 422 -\n",
      "127.0.0.1 - - [30/Sep/2024 15:42:16] \"POST /api/models/get-similarities HTTP/1.1\" 422 -\n",
      "127.0.0.1 - - [30/Sep/2024 15:42:20] \"POST /api/models/get-similarities HTTP/1.1\" 422 -\n",
      "127.0.0.1 - - [30/Sep/2024 15:42:21] \"POST /api/models/get-similarities HTTP/1.1\" 422 -\n",
      "127.0.0.1 - - [30/Sep/2024 15:42:28] \"POST /api/models/get-similarities HTTP/1.1\" 422 -\n",
      "127.0.0.1 - - [30/Sep/2024 15:42:37] \"POST /api/models/get-similarities HTTP/1.1\" 422 -\n",
      "127.0.0.1 - - [30/Sep/2024 15:42:42] \"POST /api/models/get-similarities HTTP/1.1\" 422 -\n",
      "127.0.0.1 - - [30/Sep/2024 15:42:55] \"POST /api/models/get-similarities HTTP/1.1\" 422 -\n",
      "127.0.0.1 - - [30/Sep/2024 15:43:18] \"POST /api/models/get-similarities HTTP/1.1\" 422 -\n",
      "127.0.0.1 - - [30/Sep/2024 15:43:35] \"POST /api/models/get-similarities HTTP/1.1\" 422 -\n",
      "127.0.0.1 - - [30/Sep/2024 15:43:37] \"POST /api/models/get-similarities HTTP/1.1\" 422 -\n",
      "127.0.0.1 - - [30/Sep/2024 15:43:42] \"GET / HTTP/1.1\" 200 -\n",
      "127.0.0.1 - - [30/Sep/2024 15:43:48] \"POST / HTTP/1.1\" 405 -\n",
      "127.0.0.1 - - [30/Sep/2024 15:44:03] \"POST /api/models/get-similarities HTTP/1.1\" 422 -\n"
     ]
    },
    {
     "name": "stdout",
     "output_type": "stream",
     "text": [
      "1/1 [==============================] - 4s 4s/step\n"
     ]
    },
    {
     "name": "stderr",
     "output_type": "stream",
     "text": [
      "127.0.0.1 - - [30/Sep/2024 15:44:43] \"POST /api/models/get-similarities HTTP/1.1\" 200 -\n"
     ]
    },
    {
     "name": "stdout",
     "output_type": "stream",
     "text": [
      "[['data\\\\65fe04e5ed78d3923631c9a9\\\\d56b676e-1f28-4c56-96d6-070237e2a43f', 0.76491916], ['data\\\\65fe04e5ed78d3923631cbb6\\\\d9024c75-93f8-4b22-aeff-f7966d924c57', 0.73778594], ['data\\\\65fe04e5ed78d3923631c4d9\\\\d7043df8-03b6-413c-ae3f-b96f0782e411', 0.71987265], ['data\\\\65fe04e5ed78d3923631d318\\\\eb5b5b2d-1db8-4a2a-9ab7-53067df7558b', 0.71668065], ['data\\\\65fe04e5ed78d3923631d1ac\\\\678edcd0-607e-433d-8433-46e11fb24df3', 0.6839013], ['data\\\\65fe04e5ed78d3923631c630\\\\5dd38f14-8fcc-415c-a07f-6712df46ac4c', 0.67073923], ['data\\\\65fe04e5ed78d3923631cecd\\\\047b4988-aeb2-423b-8a2e-163477a6cae2', 0.6694857], ['data\\\\65fe04e5ed78d3923631caf2\\\\bdc87406-2e14-4e6f-897e-1b08f843b533', 0.6674814], ['data\\\\65fe04e5ed78d3923631d468\\\\79307c6e-cc11-422f-8b55-d01148cc94b3', 0.66669536], ['data\\\\65fe04e5ed78d3923631d262\\\\5e944547-5d37-4b1a-a544-64a250377e4d', 0.6637056], ['data\\\\65fe04e5ed78d3923631c27f\\\\f1727c58-900c-4aca-88a8-10ac8e1bd7f0', 0.66082263], ['data\\\\65fe04e5ed78d3923631b24f\\\\74530f6e-302d-440c-843c-ac1aad9d57be', 0.6587891], ['data\\\\65fe04e5ed78d3923631b979\\\\1e644fc1-d3ba-4da2-954e-68879e020a2f', 0.6566126], ['data\\\\65fe04e5ed78d3923631ba7c\\\\96092dbf-6927-417a-a34d-3903a21fb20b', 0.6565092], ['data\\\\65fe04e5ed78d3923631c4cb\\\\84401b80-4d54-433c-b112-b45ddd243ec2', 0.6559403]]\n",
      "[['data\\\\65fe04e5ed78d3923631c9a9\\\\d56b676e-1f28-4c56-96d6-070237e2a43f', 0.7649191617965698], ['data\\\\65fe04e5ed78d3923631cbb6\\\\d9024c75-93f8-4b22-aeff-f7966d924c57', 0.7377859354019165], ['data\\\\65fe04e5ed78d3923631c4d9\\\\d7043df8-03b6-413c-ae3f-b96f0782e411', 0.7198726534843445], ['data\\\\65fe04e5ed78d3923631d318\\\\eb5b5b2d-1db8-4a2a-9ab7-53067df7558b', 0.716680645942688], ['data\\\\65fe04e5ed78d3923631d1ac\\\\678edcd0-607e-433d-8433-46e11fb24df3', 0.683901309967041], ['data\\\\65fe04e5ed78d3923631c630\\\\5dd38f14-8fcc-415c-a07f-6712df46ac4c', 0.6707392334938049], ['data\\\\65fe04e5ed78d3923631cecd\\\\047b4988-aeb2-423b-8a2e-163477a6cae2', 0.6694856882095337], ['data\\\\65fe04e5ed78d3923631caf2\\\\bdc87406-2e14-4e6f-897e-1b08f843b533', 0.6674814224243164], ['data\\\\65fe04e5ed78d3923631d468\\\\79307c6e-cc11-422f-8b55-d01148cc94b3', 0.6666953563690186], ['data\\\\65fe04e5ed78d3923631d262\\\\5e944547-5d37-4b1a-a544-64a250377e4d', 0.663705587387085], ['data\\\\65fe04e5ed78d3923631c27f\\\\f1727c58-900c-4aca-88a8-10ac8e1bd7f0', 0.6608226299285889], ['data\\\\65fe04e5ed78d3923631b24f\\\\74530f6e-302d-440c-843c-ac1aad9d57be', 0.6587890982627869], ['data\\\\65fe04e5ed78d3923631b979\\\\1e644fc1-d3ba-4da2-954e-68879e020a2f', 0.6566125750541687], ['data\\\\65fe04e5ed78d3923631ba7c\\\\96092dbf-6927-417a-a34d-3903a21fb20b', 0.6565092206001282], ['data\\\\65fe04e5ed78d3923631c4cb\\\\84401b80-4d54-433c-b112-b45ddd243ec2', 0.6559402942657471]]\n"
     ]
    },
    {
     "name": "stderr",
     "output_type": "stream",
     "text": [
      "127.0.0.1 - - [30/Sep/2024 15:52:30] \"GET / HTTP/1.1\" 200 -\n"
     ]
    }
   ],
   "source": [
    "from flask import Flask, request, jsonify\n",
    "from similarities import go \n",
    "import os\n",
    "from dotenv import load_dotenv\n",
    "# from flask_jwt_extended import JWTManager, jwt_required, get_jwt_identity\n",
    "\n",
    "load_dotenv()\n",
    "\n",
    "# حفظ الملف المرفوع\n",
    "def save_uploaded_file(file):\n",
    "    os.makedirs('images', exist_ok=True)\n",
    "    \n",
    "    file_path = os.path.join('images', file.filename)\n",
    "    file.save(file_path)\n",
    "    return file_path\n",
    "\n",
    "app = Flask(__name__)\n",
    "# app.config['JWT_SECRET_KEY'] = os.getenv('SERVER_TOKEN_SECRET')\n",
    "# jwt = JWTManager(app)\n",
    "@app.route('/', methods=['GET'])\n",
    "def print_hello():\n",
    "     return jsonify({'message':\"hello\"})\n",
    "\n",
    "@app.route('/api/models/get-similarities', methods=['POST'])\n",
    "# @jwt_required()  # التأكد من وجود رمز مميز صالح\n",
    "def get_similarities():\n",
    "    try:\n",
    "        if 'file' not in request.files:\n",
    "            return jsonify({'error': 'no file field was sent in the request'}), 400\n",
    "\n",
    "        file = request.files['file']\n",
    "\n",
    "        if file.filename == '':\n",
    "            return jsonify({'error': 'file was never specified'}), 400\n",
    "\n",
    "        if file:\n",
    "            file_path = save_uploaded_file(file)\n",
    "            results = go(file_path)\n",
    "            similarities = [[img[0], float(img[1])] for img in results]\n",
    "            print(similarities)\n",
    "            return jsonify({'similarities':similarities}), 200\n",
    "        else:\n",
    "            return jsonify({'error': 'an error occured'}), 500\n",
    "    except Exception as e:\n",
    "        print(str(e))\n",
    "        return jsonify({'error': str(e)}), 500\n",
    "\n",
    "if __name__ == '__main__':\n",
    "    app.run()"
   ]
  },
  {
   "cell_type": "code",
   "execution_count": null,
   "metadata": {},
   "outputs": [],
   "source": []
  },
  {
   "cell_type": "code",
   "execution_count": null,
   "metadata": {},
   "outputs": [],
   "source": []
  }
 ],
 "metadata": {
  "kernelspec": {
   "display_name": "Python 3 (ipykernel)",
   "language": "python",
   "name": "python3"
  },
  "language_info": {
   "codemirror_mode": {
    "name": "ipython",
    "version": 3
   },
   "file_extension": ".py",
   "mimetype": "text/x-python",
   "name": "python",
   "nbconvert_exporter": "python",
   "pygments_lexer": "ipython3",
   "version": "3.11.5"
  }
 },
 "nbformat": 4,
 "nbformat_minor": 2
}
