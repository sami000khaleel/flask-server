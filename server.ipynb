{
 "cells": [
  {
   "cell_type": "code",
   "execution_count": null,
   "metadata": {},
   "outputs": [
    {
     "name": "stdout",
     "output_type": "stream",
     "text": [
      "1/1 [==============================] - 12s 12s/step\n",
      "[['data\\\\65fe04e4ed78d3923631a00b\\\\37de7453-8870-42c3-a9b2-ec28a07ad972', 1.0000002], ['data\\\\65fe04e4ed78d39236318eed\\\\e1b266de-a3b0-4ff6-92c3-7302bc57b9cb', 0.75714564], ['data\\\\65fe04e5ed78d3923631a789\\\\6e9dadfd-1617-4216-909b-e77d4dd89ec3', 0.7299998], ['data\\\\65fe04e5ed78d3923631a76d\\\\19c31480-4d55-472e-ae52-a2df4e33c7ea', 0.7199762], ['data\\\\65fe04e4ed78d3923631943b\\\\b4b507dd-f68c-4fd1-9f25-6e2c2930a569', 0.68199515], ['data\\\\65fe04e4ed78d3923631957d\\\\60c2da2f-1690-4126-b402-1ffde96e208f', 0.67322695], ['data\\\\65fe04e5ed78d3923631a790\\\\d233cc08-bc73-4890-91f2-fb1d584c8b39', 0.671213], ['data\\\\65fe04e4ed78d39236318ebc\\\\6110bc5f-2101-4382-a79c-d2158d052b23', 0.6702497], ['data\\\\65fe04e4ed78d3923631996d\\\\8b8563c5-9eb1-4c44-9d52-acd22a8fe25d', 0.6690445], ['data\\\\65fe04e4ed78d39236318fbf\\\\52242d70-6914-4819-94cd-844e380ffbcb', 0.66641545], ['data\\\\65fe04e5ed78d3923631a505\\\\3d7a04ef-f6c9-4461-9db2-b2c87b3aa481', 0.66335934], ['data\\\\65fe04e4ed78d39236319282\\\\bffde213-2bab-486d-a622-f382abaa4e9a', 0.6605962], ['data\\\\65fe04e4ed78d39236319346\\\\e204f303-cd35-448f-b7cb-791b133efa4b', 0.65573406], ['data\\\\65fe04e4ed78d39236319cd8\\\\caac1987-574d-4975-9c36-4e3ba7dcaeef', 0.65460026], ['data\\\\65fe04e4ed78d392363195e6\\\\84b71d2e-7ee3-4f48-9278-5e49e1b05eb2', 0.65058315]]\n",
      " * Serving Flask app '__main__'\n",
      " * Debug mode: off\n"
     ]
    },
    {
     "name": "stderr",
     "output_type": "stream",
     "text": [
      "WARNING: This is a development server. Do not use it in a production deployment. Use a production WSGI server instead.\n",
      " * Running on http://127.0.0.1:5000\n",
      "Press CTRL+C to quit\n"
     ]
    },
    {
     "name": "stdout",
     "output_type": "stream",
     "text": [
      "1/1 [==============================] - 0s 465ms/step\n"
     ]
    },
    {
     "name": "stderr",
     "output_type": "stream",
     "text": [
      "127.0.0.1 - - [09/Aug/2024 11:10:01] \"POST /api/models/get-similarities HTTP/1.1\" 200 -\n"
     ]
    },
    {
     "name": "stdout",
     "output_type": "stream",
     "text": [
      "[['data\\\\65fe04e5ed78d3923631c271\\\\00208c77-ee58-4b63-bc1a-b9b3aa4f1be0', 0.73069584], ['data\\\\65fe04e4ed78d39236319ca7\\\\bdd8bca9-5f78-42d8-96ca-9cc1b8eed481', 0.71140194], ['data\\\\65fe04e5ed78d3923631bb55\\\\28a99fdf-2a91-4e4c-889d-6311ba18f4c6', 0.6834095], ['data\\\\65fe04e4ed78d39236319bb2\\\\8d985e5b-eba8-4955-a94f-ce133258c52e', 0.67814887], ['data\\\\65fe04e4ed78d3923631940a\\\\48fb5ab3-cf95-4fe9-af1e-2c8e2cdf1cd5', 0.6750932], ['data\\\\65fe04e5ed78d3923631a4aa\\\\90d2529c-7bdb-4ca3-8292-696346706ad9', 0.6748301], ['data\\\\65fe04e4ed78d392363192ac\\\\2dcaec0f-b253-4d75-aa8a-01f0858229a8', 0.67380977], ['data\\\\65fe04e5ed78d3923631a48e\\\\7481e6f6-65f9-47ba-a276-d8d0b4344d2b', 0.673459], ['data\\\\65fe04e5ed78d3923631b85a\\\\c9672bd2-9042-411e-8cc6-b089ad343a89', 0.6714578], ['data\\\\65fe04e5ed78d3923631a7a5\\\\ae9cec7a-dd1d-49bc-adae-6446429c03d8', 0.6703831], ['data\\\\65fe04e4ed78d39236319362\\\\3b67cb0e-eb7c-4f4e-a67a-804ae460932d', 0.66988575], ['data\\\\65fe04e4ed78d392363195ed\\\\262f0622-cc35-46bb-8079-927b51fc3607', 0.66810626], ['data\\\\65fe04e4ed78d39236318872\\\\09f4ffb6-ed86-42b6-ac23-6f8f2359460f', 0.66278136], ['data\\\\65fe04e5ed78d3923631a9ea\\\\d9345829-4806-4cb5-ab25-85fb4e25595d', 0.6541217], ['data\\\\65fe04e4ed78d39236318f64\\\\ab3bd520-3337-4ed6-a7eb-d11455385fd3', 0.65075237]]\n",
      "[['data\\\\65fe04e5ed78d3923631c271\\\\00208c77-ee58-4b63-bc1a-b9b3aa4f1be0', 0.7306958436965942], ['data\\\\65fe04e4ed78d39236319ca7\\\\bdd8bca9-5f78-42d8-96ca-9cc1b8eed481', 0.7114019393920898], ['data\\\\65fe04e5ed78d3923631bb55\\\\28a99fdf-2a91-4e4c-889d-6311ba18f4c6', 0.6834095120429993], ['data\\\\65fe04e4ed78d39236319bb2\\\\8d985e5b-eba8-4955-a94f-ce133258c52e', 0.6781488656997681], ['data\\\\65fe04e4ed78d3923631940a\\\\48fb5ab3-cf95-4fe9-af1e-2c8e2cdf1cd5', 0.6750931739807129], ['data\\\\65fe04e5ed78d3923631a4aa\\\\90d2529c-7bdb-4ca3-8292-696346706ad9', 0.6748300790786743], ['data\\\\65fe04e4ed78d392363192ac\\\\2dcaec0f-b253-4d75-aa8a-01f0858229a8', 0.6738097667694092], ['data\\\\65fe04e5ed78d3923631a48e\\\\7481e6f6-65f9-47ba-a276-d8d0b4344d2b', 0.673458993434906], ['data\\\\65fe04e5ed78d3923631b85a\\\\c9672bd2-9042-411e-8cc6-b089ad343a89', 0.671457827091217], ['data\\\\65fe04e5ed78d3923631a7a5\\\\ae9cec7a-dd1d-49bc-adae-6446429c03d8', 0.670383095741272], ['data\\\\65fe04e4ed78d39236319362\\\\3b67cb0e-eb7c-4f4e-a67a-804ae460932d', 0.6698857545852661], ['data\\\\65fe04e4ed78d392363195ed\\\\262f0622-cc35-46bb-8079-927b51fc3607', 0.6681062579154968], ['data\\\\65fe04e4ed78d39236318872\\\\09f4ffb6-ed86-42b6-ac23-6f8f2359460f', 0.6627813577651978], ['data\\\\65fe04e5ed78d3923631a9ea\\\\d9345829-4806-4cb5-ab25-85fb4e25595d', 0.6541216969490051], ['data\\\\65fe04e4ed78d39236318f64\\\\ab3bd520-3337-4ed6-a7eb-d11455385fd3', 0.6507523655891418]]\n"
     ]
    }
   ],
   "source": [
    "from flask import Flask, request, jsonify\n",
    "from similarities import go \n",
    "import os\n",
    "from dotenv import load_dotenv\n",
    "from flask_jwt_extended import JWTManager, jwt_required, get_jwt_identity\n",
    "\n",
    "load_dotenv()\n",
    "\n",
    "# حفظ الملف المرفوع\n",
    "def save_uploaded_file(file):\n",
    "    os.makedirs('images', exist_ok=True)\n",
    "    \n",
    "    file_path = os.path.join('images', file.filename)\n",
    "    file.save(file_path)\n",
    "    return file_path\n",
    "\n",
    "app = Flask(__name__)\n",
    "app.config['JWT_SECRET_KEY'] = os.getenv('SERVER_TOKEN_SECRET')\n",
    "jwt = JWTManager(app)\n",
    "\n",
    "@app.route('/api/models/get-similarities', methods=['POST'])\n",
    "@jwt_required()  # التأكد من وجود رمز مميز صالح\n",
    "def get_similarities():\n",
    "    try:\n",
    "        if 'file' not in request.files:\n",
    "            return jsonify({'error': 'no file field was sent in the request'}), 400\n",
    "\n",
    "        file = request.files['file']\n",
    "\n",
    "        if file.filename == '':\n",
    "            return jsonify({'error': 'file was never specified'}), 400\n",
    "\n",
    "        if file:\n",
    "            file_path = save_uploaded_file(file)\n",
    "            results = go(file_path)\n",
    "            similarities = [[img[0], float(img[1])] for img in results]\n",
    "            print(similarities)\n",
    "            return jsonify({'similarities':similarities}), 200\n",
    "        else:\n",
    "            return jsonify({'error': 'an error occured'}), 500\n",
    "    except Exception as e:\n",
    "        print(str(e))\n",
    "        return jsonify({'error': str(e)}), 500\n",
    "\n",
    "if __name__ == '__main__':\n",
    "    app.run()"
   ]
  },
  {
   "cell_type": "code",
   "execution_count": null,
   "metadata": {},
   "outputs": [],
   "source": []
  },
  {
   "cell_type": "code",
   "execution_count": null,
   "metadata": {},
   "outputs": [],
   "source": []
  }
 ],
 "metadata": {
  "kernelspec": {
   "display_name": "Python 3 (ipykernel)",
   "language": "python",
   "name": "python3"
  },
  "language_info": {
   "codemirror_mode": {
    "name": "ipython",
    "version": 3
   },
   "file_extension": ".py",
   "mimetype": "text/x-python",
   "name": "python",
   "nbconvert_exporter": "python",
   "pygments_lexer": "ipython3",
   "version": "3.11.5"
  }
 },
 "nbformat": 4,
 "nbformat_minor": 2
}
