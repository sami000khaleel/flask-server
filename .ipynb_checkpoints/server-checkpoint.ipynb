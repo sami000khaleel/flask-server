{
 "cells": [
  {
   "cell_type": "code",
   "execution_count": null,
   "metadata": {},
   "outputs": [
    {
     "name": "stdout",
     "output_type": "stream",
     "text": [
      "1/1 [==============================] - 2s 2s/step\n",
      "[['data\\\\65fe04e4ed78d3923631a00b\\\\37de7453-8870-42c3-a9b2-ec28a07ad972', 1.0000002], ['data\\\\65fe04e4ed78d39236318eed\\\\e1b266de-a3b0-4ff6-92c3-7302bc57b9cb', 0.75714564], ['data\\\\65fe04e5ed78d3923631a789\\\\6e9dadfd-1617-4216-909b-e77d4dd89ec3', 0.7299998], ['data\\\\65fe04e5ed78d3923631a76d\\\\19c31480-4d55-472e-ae52-a2df4e33c7ea', 0.7199762], ['data\\\\65fe04e4ed78d3923631943b\\\\b4b507dd-f68c-4fd1-9f25-6e2c2930a569', 0.68199515], ['data\\\\65fe04e4ed78d3923631957d\\\\60c2da2f-1690-4126-b402-1ffde96e208f', 0.67322695], ['data\\\\65fe04e5ed78d3923631a790\\\\d233cc08-bc73-4890-91f2-fb1d584c8b39', 0.671213], ['data\\\\65fe04e4ed78d39236318ebc\\\\6110bc5f-2101-4382-a79c-d2158d052b23', 0.6702497], ['data\\\\65fe04e4ed78d3923631996d\\\\8b8563c5-9eb1-4c44-9d52-acd22a8fe25d', 0.6690445], ['data\\\\65fe04e4ed78d39236318fbf\\\\52242d70-6914-4819-94cd-844e380ffbcb', 0.66641545], ['data\\\\65fe04e5ed78d3923631a505\\\\3d7a04ef-f6c9-4461-9db2-b2c87b3aa481', 0.66335934], ['data\\\\65fe04e4ed78d39236319282\\\\bffde213-2bab-486d-a622-f382abaa4e9a', 0.6605962], ['data\\\\65fe04e4ed78d39236319346\\\\e204f303-cd35-448f-b7cb-791b133efa4b', 0.65573406], ['data\\\\65fe04e4ed78d39236319cd8\\\\caac1987-574d-4975-9c36-4e3ba7dcaeef', 0.65460026], ['data\\\\65fe04e4ed78d392363195e6\\\\84b71d2e-7ee3-4f48-9278-5e49e1b05eb2', 0.65058315]]\n",
      " * Serving Flask app '__main__'\n",
      " * Debug mode: off\n"
     ]
    },
    {
     "name": "stderr",
     "output_type": "stream",
     "text": [
      "WARNING: This is a development server. Do not use it in a production deployment. Use a production WSGI server instead.\n",
      " * Running on http://127.0.0.1:5000\n",
      "Press CTRL+C to quit\n"
     ]
    }
   ],
   "source": [
    "from flask import Flask, request, jsonify\n",
    "from similarities import go \n",
    "import os\n",
    "from dotenv import load_dotenv\n",
    "from flask_jwt_extended import JWTManager, jwt_required, get_jwt_identity\n",
    "\n",
    "load_dotenv()\n",
    "\n",
    "# حفظ الملف المرفوع\n",
    "def save_uploaded_file(file):\n",
    "    os.makedirs('images', exist_ok=True)\n",
    "    \n",
    "    file_path = os.path.join('images', file.filename)\n",
    "    file.save(file_path)\n",
    "    return file_path\n",
    "\n",
    "app = Flask(__name__)\n",
    "app.config['JWT_SECRET_KEY'] = os.getenv('SERVER_TOKEN_SECRET')\n",
    "jwt = JWTManager(app)\n",
    "\n",
    "@app.route('/api/models/get-similarities', methods=['POST'])\n",
    "@jwt_required()  # التأكد من وجود رمز مميز صالح\n",
    "def get_similarities():\n",
    "    try:\n",
    "        if 'file' not in request.files:\n",
    "            return jsonify({'error': 'no file field was sent in the request'}), 400\n",
    "\n",
    "        file = request.files['file']\n",
    "\n",
    "        if file.filename == '':\n",
    "            return jsonify({'error': 'file was never specified'}), 400\n",
    "\n",
    "        if file:\n",
    "            file_path = save_uploaded_file(file)\n",
    "            results = go(file_path)\n",
    "            similarities = [[img[0], float(img[1])] for img in results]\n",
    "            print(similarities)\n",
    "            return jsonify({'similarities':similarities}), 200\n",
    "        else:\n",
    "            return jsonify({'error': 'an error occured'}), 500\n",
    "    except Exception as e:\n",
    "        print(str(e))\n",
    "        return jsonify({'error': str(e)}), 500\n",
    "\n",
    "if __name__ == '__main__':\n",
    "    app.run()"
   ]
  },
  {
   "cell_type": "code",
   "execution_count": null,
   "metadata": {},
   "outputs": [],
   "source": []
  },
  {
   "cell_type": "code",
   "execution_count": null,
   "metadata": {},
   "outputs": [],
   "source": []
  }
 ],
 "metadata": {
  "kernelspec": {
   "display_name": "Python 3 (ipykernel)",
   "language": "python",
   "name": "python3"
  },
  "language_info": {
   "codemirror_mode": {
    "name": "ipython",
    "version": 3
   },
   "file_extension": ".py",
   "mimetype": "text/x-python",
   "name": "python",
   "nbconvert_exporter": "python",
   "pygments_lexer": "ipython3",
   "version": "3.11.5"
  }
 },
 "nbformat": 4,
 "nbformat_minor": 2
}
