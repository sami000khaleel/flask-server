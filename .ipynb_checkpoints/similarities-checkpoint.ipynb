{
 "cells": [
  {
   "cell_type": "code",
   "execution_count": 5,
   "metadata": {},
   "outputs": [],
   "source": [
    "import numpy as np\n",
    "import tensorflow as tf\n",
    "from tensorflow.keras.applications import ResNet50\n",
    "from tensorflow.keras.applications.resnet50 import preprocess_input\n",
    "from tensorflow.keras.preprocessing import image\n",
    "from tensorflow.keras.models import Model\n",
    "from tensorflow.keras.layers import GlobalAveragePooling2D\n",
    "from sklearn.metrics.pairwise import cosine_similarity\n",
    "import os\n",
    "import pandas as pd"
   ]
  },
  {
   "cell_type": "code",
   "execution_count": 6,
   "metadata": {},
   "outputs": [],
   "source": [
    "import pickle\n",
    "features_file = 'features.pkl'\n",
    "\n",
    "def save_features(features, filename):\n",
    "    with open(filename, 'wb') as f:\n",
    "        pickle.dump(features, f)\n",
    "\n",
    "def load_features(filename):\n",
    "    with open(filename, 'rb') as f:\n",
    "        features = pickle.load(f)\n",
    "    return features\n"
   ]
  },
  {
   "cell_type": "code",
   "execution_count": null,
   "metadata": {},
   "outputs": [],
   "source": []
  },
  {
   "cell_type": "code",
   "execution_count": 7,
   "metadata": {},
   "outputs": [],
   "source": [
    "base_model = ResNet50(weights='imagenet', include_top=False)\n",
    "model = Model(inputs=base_model.input, outputs=GlobalAveragePooling2D()(base_model.output))\n"
   ]
  },
  {
   "cell_type": "code",
   "execution_count": 8,
   "metadata": {},
   "outputs": [],
   "source": [
    "def preprocess_image(img_path):\n",
    "    img = image.load_img(img_path, target_size=(224, 224))\n",
    "    img_array = image.img_to_array(img)\n",
    "    img_array = np.expand_dims(img_array, axis=0)\n",
    "    img_array = preprocess_input(img_array)\n",
    "    return img_array"
   ]
  },
  {
   "cell_type": "code",
   "execution_count": 9,
   "metadata": {},
   "outputs": [],
   "source": [
    "def extract_features(img_path):\n",
    "    img_array = preprocess_image(img_path)\n",
    "    features = model.predict(img_array)\n",
    "    return features\n"
   ]
  },
  {
   "cell_type": "code",
   "execution_count": 10,
   "metadata": {},
   "outputs": [],
   "source": [
    "def compute_similarity(feature1, feature2):\n",
    "    similarity = cosine_similarity(feature1.reshape(1, -1), feature2.reshape(1, -1))\n",
    "    return similarity[0][0]\n"
   ]
  },
  {
   "cell_type": "code",
   "execution_count": 11,
   "metadata": {},
   "outputs": [],
   "source": [
    "def get_images_features():\n",
    "    if os.path.exists(features_file):\n",
    "        return load_features(features_file)\n",
    "    else:\n",
    "        # Load the CSV file containing image paths\n",
    "        dataset_path = \"./product_paths.csv\"  # Replace with the path to your CSV file\n",
    "        data = pd.read_csv(dataset_path)\n",
    "\n",
    "        image_features = {}\n",
    "        for index, row in data.iterrows():\n",
    "            img_path = row['path']\n",
    "            features = extract_features('../server/'+img_path+'.jpg')  # You need to define extract_features function\n",
    "            image_features[img_path] = features\n",
    "\n",
    "        # Save features to file\n",
    "        save_features(image_features, features_file)\n",
    "\n",
    "        return image_features\n"
   ]
  },
  {
   "cell_type": "code",
   "execution_count": 12,
   "metadata": {},
   "outputs": [],
   "source": [
    "# input_image_path =''\n",
    "\n",
    "# input_image_features = extract_features(input_image_path)"
   ]
  },
  {
   "cell_type": "code",
   "execution_count": 13,
   "metadata": {},
   "outputs": [],
   "source": [
    "\n",
    "def get_similarities(input_image_features):\n",
    "    similarities = {}\n",
    "    for img_name, features in get_images_features().items():\n",
    "        if len(similarities)>=15:\n",
    "            break\n",
    "        similarity = compute_similarity(input_image_features, features)\n",
    "\n",
    "        if(similarity>0.65):\n",
    "           similarities[img_name] = similarity\n",
    "   \n",
    "    sorted_images = sorted(similarities.items(), key=lambda x: x[1], reverse=True)\n",
    "    return sorted_images    "
   ]
  },
  {
   "cell_type": "code",
   "execution_count": 14,
   "metadata": {},
   "outputs": [],
   "source": [
    "def go(image_url):\n",
    "    input_image_features=extract_features(image_url)\n",
    "    res=get_similarities(input_image_features)\n",
    "    similarities=[[img[0],img[1]] for img in res]\n",
    "    print(similarities)\n",
    "    return similarities"
   ]
  },
  {
   "cell_type": "code",
   "execution_count": 17,
   "metadata": {},
   "outputs": [
    {
     "name": "stdout",
     "output_type": "stream",
     "text": [
      "1/1 [==============================] - 2s 2s/step\n",
      "[['data\\\\65fe04e5ed78d3923631b8bc\\\\934c4462-9978-43ed-b363-d085fc08678f', 0.7278161], ['data\\\\65fe04e5ed78d3923631b979\\\\1e644fc1-d3ba-4da2-954e-68879e020a2f', 0.72071993], ['data\\\\65fe04e5ed78d3923631af38\\\\328e21ed-2843-4469-a49d-4c01470dc98d', 0.6920809], ['data\\\\65fe04e4ed78d392363189d0\\\\8a7353cf-f8e3-4a73-b72e-239ed04d4e2d', 0.6867331], ['data\\\\65fe04e4ed78d39236319fb0\\\\7965e4d8-6324-4898-a977-eb9a95b974b4', 0.68318486], ['data\\\\65fe04e5ed78d3923631b8ca\\\\85ff1bdd-7a17-45df-bfc0-0bf938d8af96', 0.6722672], ['data\\\\65fe04e5ed78d3923631a4b8\\\\2b1774a1-a7fe-4cdd-997c-7e58e5459e96', 0.67153037], ['data\\\\65fe04e4ed78d3923631883a\\\\9b76f08a-3224-4767-8ee4-04a527777477', 0.67051387], ['data\\\\65fe04e5ed78d3923631b788\\\\a5b5dd47-2e34-475e-99b0-6a977fb8786c', 0.6634272], ['data\\\\65fe04e4ed78d392363194ff\\\\54c2556e-de9f-49ca-b266-e01b642e6922', 0.6559197], ['data\\\\65fe04e5ed78d3923631b65b\\\\ad7af6f6-e6a6-4950-b3c8-eb498ea70726', 0.652645], ['data\\\\65fe04e5ed78d3923631aa3e\\\\2577536d-e1cd-47c5-a701-4c4d910384d1', 0.651662], ['data\\\\65fe04e5ed78d3923631b884\\\\7dbae619-4ff4-460a-87ee-5fa617f35fda', 0.65134186], ['data\\\\65fe04e4ed78d39236319d33\\\\fe9bcc3e-f381-4243-ac65-d1a4fd29b70f', 0.6508256], ['data\\\\65fe04e5ed78d3923631b677\\\\af1bcb5b-f255-455d-aede-442bcfc5ac2f', 0.6506993]]\n"
     ]
    },
    {
     "data": {
      "text/plain": [
       "[['data\\\\65fe04e5ed78d3923631b8bc\\\\934c4462-9978-43ed-b363-d085fc08678f',\n",
       "  0.7278161],\n",
       " ['data\\\\65fe04e5ed78d3923631b979\\\\1e644fc1-d3ba-4da2-954e-68879e020a2f',\n",
       "  0.72071993],\n",
       " ['data\\\\65fe04e5ed78d3923631af38\\\\328e21ed-2843-4469-a49d-4c01470dc98d',\n",
       "  0.6920809],\n",
       " ['data\\\\65fe04e4ed78d392363189d0\\\\8a7353cf-f8e3-4a73-b72e-239ed04d4e2d',\n",
       "  0.6867331],\n",
       " ['data\\\\65fe04e4ed78d39236319fb0\\\\7965e4d8-6324-4898-a977-eb9a95b974b4',\n",
       "  0.68318486],\n",
       " ['data\\\\65fe04e5ed78d3923631b8ca\\\\85ff1bdd-7a17-45df-bfc0-0bf938d8af96',\n",
       "  0.6722672],\n",
       " ['data\\\\65fe04e5ed78d3923631a4b8\\\\2b1774a1-a7fe-4cdd-997c-7e58e5459e96',\n",
       "  0.67153037],\n",
       " ['data\\\\65fe04e4ed78d3923631883a\\\\9b76f08a-3224-4767-8ee4-04a527777477',\n",
       "  0.67051387],\n",
       " ['data\\\\65fe04e5ed78d3923631b788\\\\a5b5dd47-2e34-475e-99b0-6a977fb8786c',\n",
       "  0.6634272],\n",
       " ['data\\\\65fe04e4ed78d392363194ff\\\\54c2556e-de9f-49ca-b266-e01b642e6922',\n",
       "  0.6559197],\n",
       " ['data\\\\65fe04e5ed78d3923631b65b\\\\ad7af6f6-e6a6-4950-b3c8-eb498ea70726',\n",
       "  0.652645],\n",
       " ['data\\\\65fe04e5ed78d3923631aa3e\\\\2577536d-e1cd-47c5-a701-4c4d910384d1',\n",
       "  0.651662],\n",
       " ['data\\\\65fe04e5ed78d3923631b884\\\\7dbae619-4ff4-460a-87ee-5fa617f35fda',\n",
       "  0.65134186],\n",
       " ['data\\\\65fe04e4ed78d39236319d33\\\\fe9bcc3e-f381-4243-ac65-d1a4fd29b70f',\n",
       "  0.6508256],\n",
       " ['data\\\\65fe04e5ed78d3923631b677\\\\af1bcb5b-f255-455d-aede-442bcfc5ac2f',\n",
       "  0.6506993]]"
      ]
     },
     "execution_count": 17,
     "metadata": {},
     "output_type": "execute_result"
    }
   ],
   "source": [
    "go('C:/Users/sami/Desktop/projects/ai-commerce/dataset/images/0d24634d-4daa-41bc-8acf-61b8382e0419.jpg')\n"
   ]
  }
 ],
 "metadata": {
  "kernelspec": {
   "display_name": "Python 3 (ipykernel)",
   "language": "python",
   "name": "python3"
  },
  "language_info": {
   "codemirror_mode": {
    "name": "ipython",
    "version": 3
   },
   "file_extension": ".py",
   "mimetype": "text/x-python",
   "name": "python",
   "nbconvert_exporter": "python",
   "pygments_lexer": "ipython3",
   "version": "3.11.5"
  }
 },
 "nbformat": 4,
 "nbformat_minor": 2
}
